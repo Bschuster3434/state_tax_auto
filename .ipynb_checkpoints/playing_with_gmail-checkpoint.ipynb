{
 "metadata": {
  "name": ""
 },
 "nbformat": 3,
 "nbformat_minor": 0,
 "worksheets": [
  {
   "cells": [
    {
     "cell_type": "code",
     "collapsed": false,
     "input": [
      "import email\n",
      "import imaplib\n",
      "import datetime"
     ],
     "language": "python",
     "metadata": {},
     "outputs": [],
     "prompt_number": 1
    },
    {
     "cell_type": "code",
     "collapsed": false,
     "input": [
      "m = imaplib.IMAP4_SSL('imap.gmail.com')"
     ],
     "language": "python",
     "metadata": {},
     "outputs": [],
     "prompt_number": 2
    },
    {
     "cell_type": "code",
     "collapsed": false,
     "input": [
      "m.login(\"statetaxmatters@gmail.com\", \"DAng3r21\")"
     ],
     "language": "python",
     "metadata": {},
     "outputs": [
      {
       "metadata": {},
       "output_type": "pyout",
       "prompt_number": 3,
       "text": [
        "('OK', ['statetaxmatters@gmail.com authenticated (Success)'])"
       ]
      }
     ],
     "prompt_number": 3
    },
    {
     "cell_type": "code",
     "collapsed": false,
     "input": [
      "rv, mailboxes = m.list()\n",
      "if rv == \"OK\":\n",
      "    print \"Mailboxes:\"\n",
      "    print mailboxes"
     ],
     "language": "python",
     "metadata": {},
     "outputs": [
      {
       "output_type": "stream",
       "stream": "stdout",
       "text": [
        "Mailboxes:\n",
        "['(\\\\HasNoChildren) \"/\" \"INBOX\"', '(\\\\HasNoChildren) \"/\" \"TAX MATTERS\"', '(\\\\Noselect \\\\HasChildren) \"/\" \"[Gmail]\"', '(\\\\HasNoChildren \\\\All) \"/\" \"[Gmail]/All Mail\"', '(\\\\HasNoChildren \\\\Drafts) \"/\" \"[Gmail]/Drafts\"', '(\\\\HasNoChildren \\\\Important) \"/\" \"[Gmail]/Important\"', '(\\\\HasNoChildren \\\\Sent) \"/\" \"[Gmail]/Sent Mail\"', '(\\\\HasNoChildren \\\\Junk) \"/\" \"[Gmail]/Spam\"', '(\\\\HasNoChildren \\\\Flagged) \"/\" \"[Gmail]/Starred\"', '(\\\\HasNoChildren \\\\Trash) \"/\" \"[Gmail]/Trash\"']\n"
       ]
      }
     ],
     "prompt_number": 4
    },
    {
     "cell_type": "code",
     "collapsed": false,
     "input": [
      "def process_mailbox(m):\n",
      "    rv, data = m.search(None, \"ALL\")\n",
      "    if rv != 'OK':\n",
      "        print \"No Message Found!\"\n",
      "        return\n",
      "    \n",
      "    for num in data[0].split():\n",
      "        rv, data = m.fetch(num, '(RFC822)')\n",
      "        if rv != 'OK':\n",
      "            print \"ERROR getting message\", num\n",
      "            return\n",
      "        \n",
      "        msg = email.message_from_string(data[0][1])\n",
      "        if num == \"3\":\n",
      "            print \"Message %s: %s\" % (num, msg[\"Subject\"])\n",
      "            print \"Raw Date:\", msg[\"Date\"]\n",
      "            date_tuple = email.utils.parsedate_tz(msg[\"Date\"])\n",
      "            if date_tuple:\n",
      "                local_date = datetime.datetime.fromtimestamp(email.utils.mktime_tz(date_tuple))\n",
      "                print \"Local Date:\", \\\n",
      "                    local_date.strftime(\"%a, %d %b %Y %H:%M:%S\")\n",
      "                n = 1\n",
      "                for part in msg.walk():\n",
      "                    print \"next_part\"\n",
      "                    fileName = part.get_filename()\n",
      "                    if bool(fileName):\n",
      "                        fileName = fileName.replace(\"\\r\", \" \")\n",
      "                        fileName = fileName.replace(\"\\n\", \" \")\n",
      "                        with open(fileName, \"wb\") as f:   \n",
      "                            f.write(part.get_payload(decode=True))        "
     ],
     "language": "python",
     "metadata": {},
     "outputs": [],
     "prompt_number": 15
    },
    {
     "cell_type": "code",
     "collapsed": false,
     "input": [
      "rv , data = m.select(\"TAX MATTERS\")\n",
      "if rv == \"OK\":\n",
      "    print \"Processing mailbox...\\n\"\n",
      "    process_mailbox(m)\n",
      "    print data"
     ],
     "language": "python",
     "metadata": {},
     "outputs": [
      {
       "output_type": "stream",
       "stream": "stdout",
       "text": [
        "Processing mailbox...\n",
        "\n",
        "Message 3: FW: External Multistate Tax Alert: Enacted Michigan Law\r\n",
        " Retroactively Repeals the Multistate Tax Compact and Provides Retroactive\r\n",
        " MBT Changes "
       ]
      },
      {
       "output_type": "stream",
       "stream": "stdout",
       "text": [
        "\n",
        "Raw Date: Sun, 21 Sep 2014 02:23:38 +0000\n",
        "Local Date: Sat, 20 Sep 2014 22:23:38\n",
        "next_part\n",
        "next_part\n",
        "next_part\n",
        "next_part\n",
        "next_part\n",
        "next_part\n",
        "['3']\n"
       ]
      }
     ],
     "prompt_number": 16
    },
    {
     "cell_type": "code",
     "collapsed": false,
     "input": [],
     "language": "python",
     "metadata": {},
     "outputs": []
    }
   ],
   "metadata": {}
  }
 ]
}